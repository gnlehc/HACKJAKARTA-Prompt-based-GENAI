{
 "cells": [
  {
   "cell_type": "code",
   "execution_count": 8,
   "metadata": {},
   "outputs": [],
   "source": [
    "from openai import OpenAI\n",
    "import requests\n",
    "from IPython.display import Image, display"
   ]
  },
  {
   "cell_type": "code",
   "execution_count": 18,
   "metadata": {},
   "outputs": [
    {
     "name": "stdout",
     "output_type": "stream",
     "text": [
      "1. Anomali Coffee\n",
      "2. JCO Donuts & Coffee\n",
      "3. Starbucks\n",
      "4. Excelso Coffee\n",
      "5. Bengawan Solo Coffee\n",
      "6. Cafe Halaman\n",
      "7. Amelia Cafe\n",
      "8. SIMPLYCOFFEE\n",
      "9. Kopi Kenangan\n",
      "10. Wendys Cafe"
     ]
    }
   ],
   "source": [
    "client = OpenAI(\n",
    "    api_key='sk-proj-Eo0rMecm2yV02441GwBtT3BlbkFJWHURQA7Q20HJkWeIpNnF'\n",
    ")\n",
    "\n",
    "stream = client.chat.completions.create(\n",
    "    model=\"gpt-3.5-turbo\",\n",
    "    messages=[{\"role\": \"user\", \"content\": \"list me a hits cafe at blok m\"}],\n",
    "    stream=True,\n",
    ")\n",
    "for chunk in stream:\n",
    "    if chunk.choices[0].delta.content is not None:\n",
    "        print(chunk.choices[0].delta.content, end=\"\")\n",
    "\n",
    "# response = client.images.generate(\n",
    "#   model=\"dall-e-3\",\n",
    "#   prompt=\"DON'T HAVE A TYPO Create a vibrant and eye-catching banner for Starbucks promoting a 'Buy 1 Get 1 Free' discount 'for all items' every Tuesday. The banner should feature the Starbucks logo prominently, along with images of popular Starbucks drinks like Frappuccinos, lattes, and cold brews. Use a color scheme that matches Starbucks' brand colors (green, white, and brown). Include the text 'Buy 1 Get 1 Free' in bold, large font, and 'Every Tuesday' in a slightly smaller font. Add a subtle, appealing background with a coffeehouse ambiance. Make sure the banner is inviting and clearly communicates the special offer.\",\n",
    "#   size=\"1024x1024\",\n",
    "#   quality=\"standard\",\n",
    "#   n=1,\n",
    "# )\n",
    "\n",
    "# image_url = response.data[0].url\n",
    "\n",
    "# response = requests.get(image_url)\n",
    "\n",
    "# if response.status_code == 200:\n",
    "#     display(Image(response.content))\n",
    "# else:\n",
    "#     print(f\"Failed to retrieve image: {response.status_code}\")\n"
   ]
  },
  {
   "cell_type": "code",
   "execution_count": 31,
   "metadata": {},
   "outputs": [
    {
     "name": "stdout",
     "output_type": "stream",
     "text": [
      "Recommended Attractions:\n",
      " Here are some family-friendly attractions near here with good food options nearby:\n",
      "\n",
      "1. Adventure Park: A fun-filled amusement park with rides and attractions for all ages. Nearby, you can find a variety of food options such as fast food, pizza, and ice cream.\n",
      "\n",
      "2. Zoo: A popular zoo with a wide range of animals to see. There are several cafes and restaurants nearby offering kid-friendly meals and snacks.\n",
      "\n",
      "3. Water Park: A water park with slides, pools, and splash pads. There are food stands and snack bars located throughout the park serving tasty treats and meals.\n",
      "\n",
      "4. Miniature Golf Course: A mini-golf course with challenging holes and obstacles. Nearby, you can find restaurants and cafes serving delicious meals and desserts.\n",
      "\n",
      "5. Botanical Garden: A beautiful botanical garden with colorful flowers and plants. There are picnic areas where you can enjoy a meal or snack from nearby restaurants and food trucks.\n"
     ]
    }
   ],
   "source": [
    "from openai import OpenAI\n",
    "\n",
    "client = OpenAI(api_key='sk-proj-RaPQwENoFDL6ohssuHd6T3BlbkFJBMXifkXqdxRwp4iXFWHA')\n",
    "\n",
    "def recommend_attractions(prompt):\n",
    "    try:\n",
    "        response = client.chat.completions.create(\n",
    "            model=\"gpt-3.5-turbo\",\n",
    "            messages=[\n",
    "                {\"role\": \"user\", \"content\": prompt}\n",
    "            ],\n",
    "            max_tokens=200,\n",
    "            temperature=0.7,\n",
    "            n=1,\n",
    "            stop=None,\n",
    "            stream=True\n",
    "        )\n",
    "        \n",
    "        output = \"\"\n",
    "        \n",
    "        for chunk in response:\n",
    "            if chunk.choices[0].delta.content is not None:\n",
    "                output += chunk.choices[0].delta.content\n",
    "        \n",
    "        return output.strip()\n",
    "        \n",
    "    except Exception as e:\n",
    "        return f\"An error occurred: {str(e)}\"\n",
    "\n",
    "user_prompt = \"I am looking for family-friendly attractions near here with good food options nearby.\"\n",
    "recommendations = recommend_attractions(user_prompt)\n",
    "print(\"Recommended Attractions:\\n\", recommendations)\n"
   ]
  },
  {
   "cell_type": "code",
   "execution_count": null,
   "metadata": {},
   "outputs": [],
   "source": [
    "from openai import OpenAI\n",
    "\n",
    "client = OpenAI(api_key='sk-proj-RaPQwENoFDL6ohssuHd6T3BlbkFJBMXifkXqdxRwp4iXFWHA')\n",
    "\n",
    "def recommend_attractions(prompt):\n",
    "    try:\n",
    "        response = client.chat.completions.create(\n",
    "            model=\"your-fine-tuned-model-id\",  \n",
    "            messages=[\n",
    "                {\"role\": \"user\", \"content\": prompt}\n",
    "            ],\n",
    "            max_tokens=200,\n",
    "            temperature=0.7,\n",
    "            n=1,\n",
    "            stop=None\n",
    "        )\n",
    "        \n",
    "        return response.choices[0].message[\"content\"].strip()\n",
    "        \n",
    "    except Exception as e:\n",
    "        return f\"An error occurred: {str(e)}\"\n",
    "\n",
    "user_prompt = \"I am looking for family-friendly attractions in Jakarta with good food options nearby.\"\n",
    "recommendations = recommend_attractions(user_prompt)\n",
    "print(\"Recommended Attractions:\\n\", recommendations)\n"
   ]
  }
 ],
 "metadata": {
  "kernelspec": {
   "display_name": "Python 3",
   "language": "python",
   "name": "python3"
  },
  "language_info": {
   "codemirror_mode": {
    "name": "ipython",
    "version": 3
   },
   "file_extension": ".py",
   "mimetype": "text/x-python",
   "name": "python",
   "nbconvert_exporter": "python",
   "pygments_lexer": "ipython3",
   "version": "3.11.3"
  }
 },
 "nbformat": 4,
 "nbformat_minor": 2
}

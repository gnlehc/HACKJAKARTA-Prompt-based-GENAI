{
 "cells": [
  {
   "cell_type": "code",
   "execution_count": 2,
   "metadata": {},
   "outputs": [],
   "source": [
    "import requests\n",
    "from bs4 import BeautifulSoup as soup"
   ]
  },
  {
   "cell_type": "code",
   "execution_count": 4,
   "metadata": {},
   "outputs": [
    {
     "data": {
      "text/plain": [
       "<bound method Response.raise_for_status of <Response [403]>>"
      ]
     },
     "execution_count": 4,
     "metadata": {},
     "output_type": "execute_result"
    }
   ],
   "source": [
    "html = requests.get('https://www.tripadvisor.com/Attractions-g294229-Activities-Jakarta_Java.html')\n",
    "html.status_code"
   ]
  },
  {
   "cell_type": "code",
   "execution_count": 7,
   "metadata": {},
   "outputs": [
    {
     "data": {
      "text/plain": [
       "'{\\n   \"error_message\" : \"You must use an API key to authenticate each request to Google Maps Platform APIs. For additional information, please refer to http://g.co/dev/maps-no-account\",\\n   \"html_attributions\" : [],\\n   \"results\" : [],\\n   \"status\" : \"REQUEST_DENIED\"\\n}'"
      ]
     },
     "execution_count": 7,
     "metadata": {},
     "output_type": "execute_result"
    }
   ],
   "source": [
    "html = requests.get('https://maps.googleapis.com/maps/api/place/nearbysearch/json')\n",
    "html.text"
   ]
  },
  {
   "cell_type": "code",
   "execution_count": null,
   "metadata": {},
   "outputs": [
    {
     "name": "stdout",
     "output_type": "stream",
     "text": [
      "Recommended Attractions:\n",
      " Here are some family-friendly attractions near here with good food options nearby:\n",
      "\n",
      "1. Adventure Park: A fun-filled amusement park with rides and attractions for all ages. Nearby, you can find a variety of food options such as fast food, pizza, and ice cream.\n",
      "\n",
      "2. Zoo: A popular zoo with a wide range of animals to see. There are several cafes and restaurants nearby offering kid-friendly meals and snacks.\n",
      "\n",
      "3. Water Park: A water park with slides, pools, and splash pads. There are food stands and snack bars located throughout the park serving tasty treats and meals.\n",
      "\n",
      "4. Miniature Golf Course: A mini-golf course with challenging holes and obstacles. Nearby, you can find restaurants and cafes serving delicious meals and desserts.\n",
      "\n",
      "5. Botanical Garden: A beautiful botanical garden with colorful flowers and plants. There are picnic areas where you can enjoy a meal or snack from nearby restaurants and food trucks.\n"
     ]
    }
   ],
   "source": [
    "from openai import OpenAI\n",
    "\n",
    "client = OpenAI(api_key='sk-proj-RaPQwENoFDL6ohssuHd6T3BlbkFJBMXifkXqdxRwp4iXFWHA')\n",
    "\n",
    "def recommend_attractions(prompt):\n",
    "    try:\n",
    "        response = client.chat.completions.create(\n",
    "            model=\"gpt-3.5-turbo\",\n",
    "            messages=[\n",
    "                {\"role\": \"user\", \"content\": prompt}\n",
    "            ],\n",
    "            max_tokens=200,\n",
    "            temperature=0.7,\n",
    "            n=1,\n",
    "            stop=None,\n",
    "            stream=True\n",
    "        )\n",
    "        \n",
    "        output = \"\"\n",
    "        \n",
    "        for chunk in response:\n",
    "            if chunk.choices[0].delta.content is not None:\n",
    "                output += chunk.choices[0].delta.content\n",
    "        \n",
    "        return output.strip()\n",
    "        \n",
    "    except Exception as e:\n",
    "        return f\"An error occurred: {str(e)}\"\n",
    "\n",
    "user_prompt = \"I am looking for family-friendly attractions near here with good food options nearby.\"\n",
    "recommendations = recommend_attractions(user_prompt)\n",
    "print(\"Recommended Attractions:\\n\", recommendations)\n"
   ]
  },
  {
   "cell_type": "code",
   "execution_count": 5,
   "metadata": {},
   "outputs": [],
   "source": [
    "bsobj = soup(html.content, 'lxml')"
   ]
  },
  {
   "cell_type": "code",
   "execution_count": 6,
   "metadata": {},
   "outputs": [
    {
     "data": {
      "text/plain": [
       "[]"
      ]
     },
     "execution_count": 6,
     "metadata": {},
     "output_type": "execute_result"
    }
   ],
   "source": [
    "# <div class=\"XfVdV o YQJrd\"><span class=\"XQCOK\">2.</span> Grand Indonesia Mall</div>\n",
    "places = []\n",
    "for name in bsobj.findAll('div', {'class': 'XfVdV o YQJrd'}):\n",
    "    places.append(name.text.strip())\n",
    "    \n",
    "places"
   ]
  },
  {
   "cell_type": "code",
   "execution_count": null,
   "metadata": {},
   "outputs": [],
   "source": [
    "# <svg class=\"UctUV d H0 hzzSG\" viewBox=\"0 0 128 24\" width=\"68\" height=\"12\" aria-labelledby=\":lithium-rrn:\"><title id=\":lithium-rrn:\">4.5 of 5 bubbles</title><path d=\"M 12 0C5.388 0 0 5.388 0 12s5.388 12 12 12 12-5.38 12-12c0-6.612-5.38-12-12-12z\" transform=\"\"></path><path d=\"M 12 0C5.388 0 0 5.388 0 12s5.388 12 12 12 12-5.38 12-12c0-6.612-5.38-12-12-12z\" transform=\"translate(26 0)\"></path><path d=\"M 12 0C5.388 0 0 5.388 0 12s5.388 12 12 12 12-5.38 12-12c0-6.612-5.38-12-12-12z\" transform=\"translate(52 0)\"></path><path d=\"M 12 0C5.388 0 0 5.388 0 12s5.388 12 12 12 12-5.38 12-12c0-6.612-5.38-12-12-12z\" transform=\"translate(78 0)\"></path><path d=\"M 12 0C5.389 0 0 5.389 0 12c0 6.62 5.389 12 12 12 6.62 0 12-5.379 12-12S18.621 0 12 0zm0 2a9.984 9.984 0 0110 10 9.976 9.976 0 01-10 10z\" transform=\"translate(104 0)\"></path></svg>\n",
    "# <title id=\":lithium-rrn:\">4.5 of 5 bubbles</title>\n",
    "ratings = []\n",
    "for r in bsobj.findAll('svg', {'class': 'UctUV d H0 hzzSG'}):\n",
    "    title_element = r.find('title')\n",
    "    if title_element:\n",
    "        ratings.append(title_element.text)\n",
    "ratings"
   ]
  },
  {
   "cell_type": "code",
   "execution_count": null,
   "metadata": {},
   "outputs": [],
   "source": [
    "reviews = []\n",
    "for rev in bsobj.findAll('span', {'class': 'biGQs _P pZUbB hmDzD'}):\n",
    "    reviews.append(rev.title.strip())\n",
    "    \n",
    "reviews"
   ]
  },
  {
   "cell_type": "code",
   "execution_count": null,
   "metadata": {},
   "outputs": [],
   "source": [
    "category = []\n",
    "for c in bsobj.findAll('span', {'class': 'biGQs _P pZUbB avBIb hmDzD'}):\n",
    "    category.append(name.text.strip())\n",
    "category"
   ]
  },
  {
   "cell_type": "code",
   "execution_count": null,
   "metadata": {},
   "outputs": [],
   "source": [
    "import pandas as pd\n",
    "d1 = {'Place': places, 'Ratings': ratings, 'Number of Reviews': reviews, 'Category': category}\n",
    "df = pd.DataFrame.from_dict(d1)\n",
    "\n",
    "df"
   ]
  },
  {
   "cell_type": "code",
   "execution_count": null,
   "metadata": {},
   "outputs": [],
   "source": []
  },
  {
   "cell_type": "code",
   "execution_count": null,
   "metadata": {},
   "outputs": [],
   "source": []
  }
 ],
 "metadata": {
  "kernelspec": {
   "display_name": "Python 3",
   "language": "python",
   "name": "python3"
  },
  "language_info": {
   "codemirror_mode": {
    "name": "ipython",
    "version": 3
   },
   "file_extension": ".py",
   "mimetype": "text/x-python",
   "name": "python",
   "nbconvert_exporter": "python",
   "pygments_lexer": "ipython3",
   "version": "3.11.3"
  }
 },
 "nbformat": 4,
 "nbformat_minor": 2
}
